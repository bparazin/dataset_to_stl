{
 "cells": [
  {
   "cell_type": "code",
   "execution_count": 1,
   "id": "2f8cfc99-64bd-4821-a843-78b7e3ebf337",
   "metadata": {},
   "outputs": [],
   "source": [
    "import xarray as xr\n",
    "import matplotlib.pyplot as plt\n",
    "from stl import mesh\n",
    "from scipy import spatial\n",
    "import numpy as np\n",
    "from tqdm.auto import tqdm"
   ]
  },
  {
   "cell_type": "code",
   "execution_count": 14,
   "id": "6c9ad7d9-92e2-4485-82f3-bef532b59a35",
   "metadata": {},
   "outputs": [],
   "source": [
    "antdat = xr.open_dataset('control_new.nc')['h'][-1, :, :]\n",
    "lgm_run = xr.open_dataset('fort.92.nc')['h'][128]"
   ]
  },
  {
   "cell_type": "code",
   "execution_count": 3,
   "id": "defdd8f2-2638-45d2-9167-acc7d2af6e4c",
   "metadata": {},
   "outputs": [],
   "source": [
    "#x_list: list of x coordinates of your grid\n",
    "#y_list: list of y coordinates of your grid\n",
    "#data: 2-d gridded data on grid points defined by x_list; should have shape (len(y_list), len(x_list))\n",
    "#filename: output name \n",
    "#assumes x_list and y_list are increasing\n",
    "#base_depth: value to set base layer datapoints at\n",
    "#z_scale: what to scale data values by when plotting\n",
    "#vertex_scale: what to scale all vertices by when outputting\n",
    "def grid_to_stl(x_list, y_list, data, filename, base_depth = -50, z_scale = 1/7, vertex_scale = 1/30):\n",
    "    if filename[-4:] != '.stl':\n",
    "        filename = filename + '.stl'\n",
    "    \n",
    "    data_with_guard = np.zeros(tuple(s+2 for s in data.shape), data.dtype)\n",
    "    data_with_guard[tuple(slice(1,-1) for s in data.shape)] = data\n",
    "\n",
    "    x_list_with_guard = np.concatenate([[x_list[0] * 0.9999], x_list, [x_list[-1] * 1.0001]])\n",
    "    y_list_with_guard = np.concatenate([[y_list[0] * 0.9999], y_list, [y_list[-1] * 1.0001]])\n",
    "\n",
    "    nwidth = len(x_list_with_guard)\n",
    "    nlength = len(y_list_with_guard)\n",
    "\n",
    "    vertices = np.zeros([nwidth*nlength*2, 3])\n",
    "    faces = []\n",
    "    for i, x in tqdm(enumerate(x_list_with_guard)):\n",
    "        for j, y in enumerate(y_list_with_guard):\n",
    "            vertices[i + nwidth*j] = [x, y, base_depth]\n",
    "            vertices[i + nwidth*j + nwidth*nlength] = [x, y, data_with_guard[j, i] * z_scale]\n",
    "            index = i + nwidth*j\n",
    "            \n",
    "            # if i == 0:\n",
    "            #     left_edge.append(index)\n",
    "            #     left_edge.append(index + nwidth*nlength)\n",
    "            # if i == nwidth - 1:\n",
    "            #     right_edge.append(index)\n",
    "            #     right_edge.append(index + nwidth*nlength)\n",
    "            # if j == 0:\n",
    "            #     bottom_edge.append(index)\n",
    "            #     bottom_edge.append(index + nwidth*nlength)\n",
    "            # if j == nlength - 1:\n",
    "            #     top_edge.append(index)\n",
    "            #     top_edge.append(index + nwidth*nlength)\n",
    "            \n",
    "            if (i+j) % 2 == 0:\n",
    "                faces.append([index, index+1, index+nwidth]) if i!= nwidth-1 and j!=nlength-1 else 1\n",
    "                faces.append([index + nwidth*nlength, index + 1 + nwidth*nlength, \n",
    "                              index + nwidth + nwidth*nlength]) if i!= nwidth-1 and j!=nlength-1 else 1\n",
    "                \n",
    "                faces.append([index, index-1, index+nwidth]) if i!= 0 and j!=nlength-1 else 1\n",
    "                faces.append([index + nwidth*nlength, index - 1 + nwidth*nlength, \n",
    "                              index + nwidth + nwidth*nlength]) if i!= 0 and j!=nlength-1 else 1\n",
    "        \n",
    "                faces.append([index, index+1, index-nwidth]) if i!= nwidth-1 and j!=0 else 1\n",
    "                faces.append([index + nwidth*nlength, index + 1 + nwidth*nlength, \n",
    "                              index - nwidth + nwidth*nlength]) if i!= nwidth-1 and j!=0 else 1\n",
    "        \n",
    "                faces.append([index, index-1, index-nwidth]) if i!= 0 and j!=0 else 1\n",
    "                faces.append([index + nwidth*nlength, index - 1 + nwidth*nlength, \n",
    "                              index - nwidth + nwidth*nlength]) if i!= 0 and j!=0 else 1\n",
    "    \n",
    "    vertices *= vertex_scale\n",
    "    \n",
    "    faces.append([0, nwidth-1, nwidth*nlength])\n",
    "    faces.append([nwidth-1, nwidth*nlength, nwidth*nlength+nwidth-1])\n",
    "    \n",
    "    faces.append([0, nwidth*(nlength-1), nwidth*nlength])\n",
    "    faces.append([(nlength-1)*nwidth, nwidth*nlength, (nlength-1)*nwidth+nwidth*nlength])\n",
    "    \n",
    "    faces.append([nwidth-1, nwidth-1+(nlength-1)*nwidth, nwidth-1+nwidth*nlength])\n",
    "    faces.append([nwidth-1+(nlength-1)*nwidth, nwidth-1+nwidth*nlength, nwidth-1+(nlength-1)*nwidth+nwidth*nlength])\n",
    "    \n",
    "    faces.append([(nlength-1)*nwidth, nwidth-1+(nlength-1)*nwidth, (nlength-1)*nwidth+nwidth*nlength])\n",
    "    faces.append([nwidth-1+(nlength-1)*nwidth, (nlength-1)*nwidth+nwidth*nlength, nwidth-1+(nlength-1)*nwidth+nwidth*nlength])\n",
    "    faces = np.asarray(faces)\n",
    "\n",
    "    myramid_mesh = mesh.Mesh(\n",
    "      np.zeros(faces.shape[0], dtype=mesh.Mesh.dtype)\n",
    "    )\n",
    "    for i, f in enumerate(faces):\n",
    "      for j in range(3):\n",
    "          myramid_mesh.vectors[i][j] = vertices[f[j],:]\n",
    "\n",
    "    myramid_mesh.save(filename)"
   ]
  },
  {
   "cell_type": "code",
   "execution_count": 18,
   "id": "ceb324e0-f0c8-4cff-82c3-7274ec494e3d",
   "metadata": {},
   "outputs": [
    {
     "data": {
      "application/vnd.jupyter.widget-view+json": {
       "model_id": "b4494aba01ce44878b3a0926760e77aa",
       "version_major": 2,
       "version_minor": 0
      },
      "text/plain": [
       "0it [00:00, ?it/s]"
      ]
     },
     "metadata": {},
     "output_type": "display_data"
    }
   ],
   "source": [
    "grid_to_stl(lgm_run['x1'].data, lgm_run['y1'].data, lgm_run.data, 'antarctica_lgm')"
   ]
  },
  {
   "cell_type": "code",
   "execution_count": 5,
   "id": "d5ab163a-2049-438d-b5fe-0ac75b15e233",
   "metadata": {},
   "outputs": [
    {
     "name": "stdout",
     "output_type": "stream",
     "text": [
      "280 280\n"
     ]
    },
    {
     "data": {
      "application/vnd.jupyter.widget-view+json": {
       "model_id": "415f3aa5c1a5414f95c321c09d666e12",
       "version_major": 2,
       "version_minor": 0
      },
      "text/plain": [
       "0it [00:00, ?it/s]"
      ]
     },
     "metadata": {},
     "output_type": "display_data"
    },
    {
     "name": "stdout",
     "output_type": "stream",
     "text": [
      "(311364, 3)\n"
     ]
    }
   ],
   "source": [
    "nwidth = len(antdat['x1'].data) #i\n",
    "nlength = len(antdat['y1'].data) #j\n",
    "print(nwidth, nlength)\n",
    "\n",
    "vertices = np.zeros([nwidth*nlength*2, 3])\n",
    "left_edge = []\n",
    "right_edge = []\n",
    "top_edge = []\n",
    "bottom_edge = []\n",
    "faces = []\n",
    "for i, x in tqdm(enumerate(antdat['x1'].data)):\n",
    "    for j, y in enumerate(antdat['y1'].data):\n",
    "        vertices[i + nwidth*j] = [x, y, -50]\n",
    "        vertices[i + nwidth*j + nwidth*nlength] = [x, y, antdat[j, i]/7]\n",
    "        index = i + nwidth*j\n",
    "        \n",
    "        if i == 0:\n",
    "            left_edge.append(index)\n",
    "            left_edge.append(index + nwidth*nlength)\n",
    "        if i == nwidth - 1:\n",
    "            right_edge.append(index)\n",
    "            right_edge.append(index + nwidth*nlength)\n",
    "        if j == 0:\n",
    "            bottom_edge.append(index)\n",
    "            bottom_edge.append(index + nwidth*nlength)\n",
    "        if j == nlength - 1:\n",
    "            top_edge.append(index)\n",
    "            top_edge.append(index + nwidth*nlength)\n",
    "        \n",
    "        if (i+j) % 2 == 0:\n",
    "            faces.append([index, index+1, index+nwidth]) if i!= nwidth-1 and j!=nlength-1 else 1\n",
    "            faces.append([index + nwidth*nlength, index + 1 + nwidth*nlength, \n",
    "                          index + nwidth + nwidth*nlength]) if i!= nwidth-1 and j!=nlength-1 else 1\n",
    "            \n",
    "            faces.append([index, index-1, index+nwidth]) if i!= 0 and j!=nlength-1 else 1\n",
    "            faces.append([index + nwidth*nlength, index - 1 + nwidth*nlength, \n",
    "                          index + nwidth + nwidth*nlength]) if i!= 0 and j!=nlength-1 else 1\n",
    "    \n",
    "            faces.append([index, index+1, index-nwidth]) if i!= nwidth-1 and j!=0 else 1\n",
    "            faces.append([index + nwidth*nlength, index + 1 + nwidth*nlength, \n",
    "                          index - nwidth + nwidth*nlength]) if i!= nwidth-1 and j!=0 else 1\n",
    "    \n",
    "            faces.append([index, index-1, index-nwidth]) if i!= 0 and j!=0 else 1\n",
    "            faces.append([index + nwidth*nlength, index - 1 + nwidth*nlength, \n",
    "                          index - nwidth + nwidth*nlength]) if i!= 0 and j!=0 else 1\n",
    "print(np.shape(faces))\n",
    "\n",
    "# vertices[np.asarray(left_edge)][:, 1:]\n",
    "\n",
    "vertices *= 1/30\n",
    "\n",
    "faces.append([0, nwidth-1, nwidth*nlength])\n",
    "faces.append([nwidth-1, nwidth*nlength, nwidth*nlength+nwidth-1])\n",
    "\n",
    "faces.append([0, nwidth*(nlength-1), nwidth*nlength])\n",
    "faces.append([(nlength-1)*nwidth, nwidth*nlength, (nlength-1)*nwidth+nwidth*nlength])\n",
    "\n",
    "faces.append([nwidth-1, nwidth-1+(nlength-1)*nwidth, nwidth-1+nwidth*nlength])\n",
    "faces.append([nwidth-1+(nlength-1)*nwidth, nwidth-1+nwidth*nlength, nwidth-1+(nlength-1)*nwidth+nwidth*nlength])\n",
    "\n",
    "faces.append([(nlength-1)*nwidth, nwidth-1+(nlength-1)*nwidth, (nlength-1)*nwidth+nwidth*nlength])\n",
    "faces.append([nwidth-1+(nlength-1)*nwidth, (nlength-1)*nwidth+nwidth*nlength, nwidth-1+(nlength-1)*nwidth+nwidth*nlength])\n",
    "faces = np.asarray(faces)"
   ]
  },
  {
   "cell_type": "code",
   "execution_count": 6,
   "id": "ca96f5e0-fa63-4afc-a943-5b1b5b2a5957",
   "metadata": {},
   "outputs": [],
   "source": [
    "myramid_mesh = mesh.Mesh(\n",
    "  np.zeros(faces.shape[0], dtype=mesh.Mesh.dtype)\n",
    ")\n",
    "for i, f in enumerate(faces):\n",
    "  for j in range(3):\n",
    "      myramid_mesh.vectors[i][j] = vertices[f[j],:]"
   ]
  },
  {
   "cell_type": "code",
   "execution_count": 7,
   "id": "cb014aae-6185-45b2-a0d0-60b756216a89",
   "metadata": {},
   "outputs": [],
   "source": [
    "myramid_mesh.save('west_antarctica.stl')"
   ]
  },
  {
   "cell_type": "code",
   "execution_count": null,
   "id": "cd2e5092-64d6-4881-b68d-0c9e4a9d7daa",
   "metadata": {},
   "outputs": [],
   "source": []
  }
 ],
 "metadata": {
  "kernelspec": {
   "display_name": "Python 3 (ipykernel)",
   "language": "python",
   "name": "python3"
  },
  "language_info": {
   "codemirror_mode": {
    "name": "ipython",
    "version": 3
   },
   "file_extension": ".py",
   "mimetype": "text/x-python",
   "name": "python",
   "nbconvert_exporter": "python",
   "pygments_lexer": "ipython3",
   "version": "3.11.7"
  }
 },
 "nbformat": 4,
 "nbformat_minor": 5
}
